{
  "nbformat": 4,
  "nbformat_minor": 0,
  "metadata": {
    "colab": {
      "provenance": [],
      "gpuType": "T4"
    },
    "kernelspec": {
      "name": "python3",
      "display_name": "Python 3"
    },
    "language_info": {
      "name": "python"
    },
    "accelerator": "GPU"
  },
  "cells": [
    {
      "cell_type": "code",
      "execution_count": 1,
      "metadata": {
        "id": "twhRtCMcq9Rv"
      },
      "outputs": [],
      "source": [
        "import tensorflow as tf\n",
        "from tensorflow.keras.preprocessing.text import Tokenizer\n",
        "from tensorflow.keras.layers import Embedding, LSTM, Dense\n",
        "from tensorflow.keras.models import Sequential\n",
        "from tensorflow.keras.utils import to_categorical\n",
        "from tensorflow.keras.optimizers import Adam\n",
        "import pickle\n",
        "import numpy as np\n",
        "import os"
      ]
    },
    {
      "cell_type": "markdown",
      "source": [
        "download text file from: https://www.gutenberg.org/browse/scores/top"
      ],
      "metadata": {
        "id": "KjMEj64ArU1b"
      }
    },
    {
      "cell_type": "code",
      "source": [
        "from google.colab import files\n",
        "uploaded = files.upload()"
      ],
      "metadata": {
        "colab": {
          "base_uri": "https://localhost:8080/",
          "height": 71
        },
        "id": "VTtI8SFBrOJ9",
        "outputId": "13574331-bc26-4c7d-e10c-98d1311eae7b"
      },
      "execution_count": 2,
      "outputs": [
        {
          "output_type": "display_data",
          "data": {
            "text/plain": [
              "<IPython.core.display.HTML object>"
            ],
            "text/html": [
              "\n",
              "     <input type=\"file\" id=\"files-9f4524a5-c26f-40db-83f9-bf39fea57b66\" name=\"files[]\" multiple disabled\n",
              "        style=\"border:none\" />\n",
              "     <output id=\"result-9f4524a5-c26f-40db-83f9-bf39fea57b66\">\n",
              "      Upload widget is only available when the cell has been executed in the\n",
              "      current browser session. Please rerun this cell to enable.\n",
              "      </output>\n",
              "      <script>// Copyright 2017 Google LLC\n",
              "//\n",
              "// Licensed under the Apache License, Version 2.0 (the \"License\");\n",
              "// you may not use this file except in compliance with the License.\n",
              "// You may obtain a copy of the License at\n",
              "//\n",
              "//      http://www.apache.org/licenses/LICENSE-2.0\n",
              "//\n",
              "// Unless required by applicable law or agreed to in writing, software\n",
              "// distributed under the License is distributed on an \"AS IS\" BASIS,\n",
              "// WITHOUT WARRANTIES OR CONDITIONS OF ANY KIND, either express or implied.\n",
              "// See the License for the specific language governing permissions and\n",
              "// limitations under the License.\n",
              "\n",
              "/**\n",
              " * @fileoverview Helpers for google.colab Python module.\n",
              " */\n",
              "(function(scope) {\n",
              "function span(text, styleAttributes = {}) {\n",
              "  const element = document.createElement('span');\n",
              "  element.textContent = text;\n",
              "  for (const key of Object.keys(styleAttributes)) {\n",
              "    element.style[key] = styleAttributes[key];\n",
              "  }\n",
              "  return element;\n",
              "}\n",
              "\n",
              "// Max number of bytes which will be uploaded at a time.\n",
              "const MAX_PAYLOAD_SIZE = 100 * 1024;\n",
              "\n",
              "function _uploadFiles(inputId, outputId) {\n",
              "  const steps = uploadFilesStep(inputId, outputId);\n",
              "  const outputElement = document.getElementById(outputId);\n",
              "  // Cache steps on the outputElement to make it available for the next call\n",
              "  // to uploadFilesContinue from Python.\n",
              "  outputElement.steps = steps;\n",
              "\n",
              "  return _uploadFilesContinue(outputId);\n",
              "}\n",
              "\n",
              "// This is roughly an async generator (not supported in the browser yet),\n",
              "// where there are multiple asynchronous steps and the Python side is going\n",
              "// to poll for completion of each step.\n",
              "// This uses a Promise to block the python side on completion of each step,\n",
              "// then passes the result of the previous step as the input to the next step.\n",
              "function _uploadFilesContinue(outputId) {\n",
              "  const outputElement = document.getElementById(outputId);\n",
              "  const steps = outputElement.steps;\n",
              "\n",
              "  const next = steps.next(outputElement.lastPromiseValue);\n",
              "  return Promise.resolve(next.value.promise).then((value) => {\n",
              "    // Cache the last promise value to make it available to the next\n",
              "    // step of the generator.\n",
              "    outputElement.lastPromiseValue = value;\n",
              "    return next.value.response;\n",
              "  });\n",
              "}\n",
              "\n",
              "/**\n",
              " * Generator function which is called between each async step of the upload\n",
              " * process.\n",
              " * @param {string} inputId Element ID of the input file picker element.\n",
              " * @param {string} outputId Element ID of the output display.\n",
              " * @return {!Iterable<!Object>} Iterable of next steps.\n",
              " */\n",
              "function* uploadFilesStep(inputId, outputId) {\n",
              "  const inputElement = document.getElementById(inputId);\n",
              "  inputElement.disabled = false;\n",
              "\n",
              "  const outputElement = document.getElementById(outputId);\n",
              "  outputElement.innerHTML = '';\n",
              "\n",
              "  const pickedPromise = new Promise((resolve) => {\n",
              "    inputElement.addEventListener('change', (e) => {\n",
              "      resolve(e.target.files);\n",
              "    });\n",
              "  });\n",
              "\n",
              "  const cancel = document.createElement('button');\n",
              "  inputElement.parentElement.appendChild(cancel);\n",
              "  cancel.textContent = 'Cancel upload';\n",
              "  const cancelPromise = new Promise((resolve) => {\n",
              "    cancel.onclick = () => {\n",
              "      resolve(null);\n",
              "    };\n",
              "  });\n",
              "\n",
              "  // Wait for the user to pick the files.\n",
              "  const files = yield {\n",
              "    promise: Promise.race([pickedPromise, cancelPromise]),\n",
              "    response: {\n",
              "      action: 'starting',\n",
              "    }\n",
              "  };\n",
              "\n",
              "  cancel.remove();\n",
              "\n",
              "  // Disable the input element since further picks are not allowed.\n",
              "  inputElement.disabled = true;\n",
              "\n",
              "  if (!files) {\n",
              "    return {\n",
              "      response: {\n",
              "        action: 'complete',\n",
              "      }\n",
              "    };\n",
              "  }\n",
              "\n",
              "  for (const file of files) {\n",
              "    const li = document.createElement('li');\n",
              "    li.append(span(file.name, {fontWeight: 'bold'}));\n",
              "    li.append(span(\n",
              "        `(${file.type || 'n/a'}) - ${file.size} bytes, ` +\n",
              "        `last modified: ${\n",
              "            file.lastModifiedDate ? file.lastModifiedDate.toLocaleDateString() :\n",
              "                                    'n/a'} - `));\n",
              "    const percent = span('0% done');\n",
              "    li.appendChild(percent);\n",
              "\n",
              "    outputElement.appendChild(li);\n",
              "\n",
              "    const fileDataPromise = new Promise((resolve) => {\n",
              "      const reader = new FileReader();\n",
              "      reader.onload = (e) => {\n",
              "        resolve(e.target.result);\n",
              "      };\n",
              "      reader.readAsArrayBuffer(file);\n",
              "    });\n",
              "    // Wait for the data to be ready.\n",
              "    let fileData = yield {\n",
              "      promise: fileDataPromise,\n",
              "      response: {\n",
              "        action: 'continue',\n",
              "      }\n",
              "    };\n",
              "\n",
              "    // Use a chunked sending to avoid message size limits. See b/62115660.\n",
              "    let position = 0;\n",
              "    do {\n",
              "      const length = Math.min(fileData.byteLength - position, MAX_PAYLOAD_SIZE);\n",
              "      const chunk = new Uint8Array(fileData, position, length);\n",
              "      position += length;\n",
              "\n",
              "      const base64 = btoa(String.fromCharCode.apply(null, chunk));\n",
              "      yield {\n",
              "        response: {\n",
              "          action: 'append',\n",
              "          file: file.name,\n",
              "          data: base64,\n",
              "        },\n",
              "      };\n",
              "\n",
              "      let percentDone = fileData.byteLength === 0 ?\n",
              "          100 :\n",
              "          Math.round((position / fileData.byteLength) * 100);\n",
              "      percent.textContent = `${percentDone}% done`;\n",
              "\n",
              "    } while (position < fileData.byteLength);\n",
              "  }\n",
              "\n",
              "  // All done.\n",
              "  yield {\n",
              "    response: {\n",
              "      action: 'complete',\n",
              "    }\n",
              "  };\n",
              "}\n",
              "\n",
              "scope.google = scope.google || {};\n",
              "scope.google.colab = scope.google.colab || {};\n",
              "scope.google.colab._files = {\n",
              "  _uploadFiles,\n",
              "  _uploadFilesContinue,\n",
              "};\n",
              "})(self);\n",
              "</script> "
            ]
          },
          "metadata": {}
        },
        {
          "output_type": "stream",
          "name": "stdout",
          "text": [
            "Saving Pride and Prejudice.txt to Pride and Prejudice.txt\n"
          ]
        }
      ]
    },
    {
      "cell_type": "code",
      "source": [
        "file = open('Pride and Prejudice.txt','r', encoding= 'utf-8')\n",
        "\n",
        "lines = []\n",
        "for i in file :\n",
        "  lines.append(i)"
      ],
      "metadata": {
        "id": "p2d2dt21tpB2"
      },
      "execution_count": 3,
      "outputs": []
    },
    {
      "cell_type": "code",
      "source": [
        "#lines"
      ],
      "metadata": {
        "id": "O1iCWiChvNGH"
      },
      "execution_count": 4,
      "outputs": []
    },
    {
      "cell_type": "markdown",
      "source": [
        "pre-process the data"
      ],
      "metadata": {
        "id": "6i6kbs0PudSr"
      }
    },
    {
      "cell_type": "code",
      "source": [
        "#convert list to string\n",
        "\n",
        "data = \"\"\n",
        "for i in lines :\n",
        "  data = ' '.join (lines)"
      ],
      "metadata": {
        "id": "267mCPpNuezI"
      },
      "execution_count": 5,
      "outputs": []
    },
    {
      "cell_type": "code",
      "source": [
        "#data"
      ],
      "metadata": {
        "id": "Saqxh-9RwxmM"
      },
      "execution_count": 6,
      "outputs": []
    },
    {
      "cell_type": "code",
      "source": [
        "#replice unnecessary stuff with space\n",
        "data = data.replace('\\n', '').replace('\\r', '').replace('\\ufeff', '').replace('“','').replace('”','')  #new line, carriage return, unicode character --> replace by space\n",
        "\n",
        "#remove unnecessary spaces\n",
        "data = data.split()\n",
        "data = ' '.join(data)\n",
        "data[:494]\n"
      ],
      "metadata": {
        "colab": {
          "base_uri": "https://localhost:8080/",
          "height": 89
        },
        "id": "J1QP3nyVyV1q",
        "outputId": "4c5b5f5b-c388-4894-eb0a-54c513284095"
      },
      "execution_count": 7,
      "outputs": [
        {
          "output_type": "execute_result",
          "data": {
            "text/plain": [
              "'The Project Gutenberg eBook of Pride and Prejudice This ebook is for the use of anyone anywhere in the United States and most other parts of the world at no cost and with almost no restrictions whatsoever. You may copy it, give it away or re-use it under the terms of the Project Gutenberg License included with this ebook or online at www.gutenberg.org. If you are not located in the United States, you will have to check the laws of the country where you are located before using this eBook. '"
            ],
            "application/vnd.google.colaboratory.intrinsic+json": {
              "type": "string"
            }
          },
          "metadata": {},
          "execution_count": 7
        }
      ]
    },
    {
      "cell_type": "code",
      "source": [
        "len(data)"
      ],
      "metadata": {
        "colab": {
          "base_uri": "https://localhost:8080/"
        },
        "id": "7lje8AEezxuP",
        "outputId": "3f3272dc-4f24-4db9-9679-b922eb762b4e"
      },
      "execution_count": 8,
      "outputs": [
        {
          "output_type": "execute_result",
          "data": {
            "text/plain": [
              "733690"
            ]
          },
          "metadata": {},
          "execution_count": 8
        }
      ]
    },
    {
      "cell_type": "markdown",
      "source": [
        "Implement tokenization and make additional adjustments"
      ],
      "metadata": {
        "id": "W3KSP4ttz4DX"
      }
    },
    {
      "cell_type": "code",
      "source": [
        "tokenizer = Tokenizer()\n",
        "tokenizer.fit_on_texts([data])\n",
        "\n",
        "# saving the tokenizer for predict function\n",
        "pickle.dump(tokenizer, open('token.pkl', 'wb'))\n",
        "\n",
        "sequence_data = tokenizer.texts_to_sequences([data])[0]\n",
        "sequence_data[:15]\n",
        "#len(sequence_data)"
      ],
      "metadata": {
        "colab": {
          "base_uri": "https://localhost:8080/"
        },
        "id": "lXG__1y3z8Q5",
        "outputId": "590d8f1b-bb8d-47de-c408-578342ee6d2f"
      },
      "execution_count": 9,
      "outputs": [
        {
          "output_type": "execute_result",
          "data": {
            "text/plain": [
              "[1, 181, 390, 1000, 3, 298, 4, 946, 41, 1000, 23, 21, 1, 507, 3]"
            ]
          },
          "metadata": {},
          "execution_count": 9
        }
      ]
    },
    {
      "cell_type": "code",
      "source": [
        "len(sequence_data)"
      ],
      "metadata": {
        "colab": {
          "base_uri": "https://localhost:8080/"
        },
        "id": "QZc3qDbH0Rc5",
        "outputId": "da7d5cc4-0ca6-43c4-cf88-edbbeacecd8e"
      },
      "execution_count": 10,
      "outputs": [
        {
          "output_type": "execute_result",
          "data": {
            "text/plain": [
              "131178"
            ]
          },
          "metadata": {},
          "execution_count": 10
        }
      ]
    },
    {
      "cell_type": "code",
      "source": [
        "vocab_size = len(tokenizer.word_index) + 1\n",
        "print(vocab_size)"
      ],
      "metadata": {
        "colab": {
          "base_uri": "https://localhost:8080/"
        },
        "id": "LsPfcaNvJQvm",
        "outputId": "a63033a4-f62b-4998-c909-d300a7c6d95d"
      },
      "execution_count": 11,
      "outputs": [
        {
          "output_type": "stream",
          "name": "stdout",
          "text": [
            "7254\n"
          ]
        }
      ]
    },
    {
      "cell_type": "code",
      "source": [
        "sequences = []\n",
        "\n",
        "#we use 3words for predict next word (we have four words that 3words are input and the last word is output)\n",
        "for i in range(3, len(sequence_data)):\n",
        "    words = sequence_data[i-3:i+1]\n",
        "    sequences.append(words)\n",
        "\n",
        "print(\"The Length of sequences are: \", len(sequences))\n",
        "sequences = np.array(sequences)\n",
        "sequences[:10]"
      ],
      "metadata": {
        "colab": {
          "base_uri": "https://localhost:8080/"
        },
        "id": "Ga8sUWTlJI8G",
        "outputId": "b941f20e-fedc-4402-e0c1-c037f751f687"
      },
      "execution_count": 12,
      "outputs": [
        {
          "output_type": "stream",
          "name": "stdout",
          "text": [
            "The Length of sequences are:  131175\n"
          ]
        },
        {
          "output_type": "execute_result",
          "data": {
            "text/plain": [
              "array([[   1,  181,  390, 1000],\n",
              "       [ 181,  390, 1000,    3],\n",
              "       [ 390, 1000,    3,  298],\n",
              "       [1000,    3,  298,    4],\n",
              "       [   3,  298,    4,  946],\n",
              "       [ 298,    4,  946,   41],\n",
              "       [   4,  946,   41, 1000],\n",
              "       [ 946,   41, 1000,   23],\n",
              "       [  41, 1000,   23,   21],\n",
              "       [1000,   23,   21,    1]])"
            ]
          },
          "metadata": {},
          "execution_count": 12
        }
      ]
    },
    {
      "cell_type": "code",
      "source": [
        "#input (the first three words)\n",
        "X = []\n",
        "#output(the last word)\n",
        "y = []\n",
        "\n",
        "for i in sequences:\n",
        "    X.append(i[0:3])\n",
        "    y.append(i[3])\n",
        "\n",
        "#convert to array\n",
        "X = np.array(X)\n",
        "y = np.array(y)\n",
        "print(\"Data: \", X[:10])\n",
        "print(\"Response: \", y[:10])"
      ],
      "metadata": {
        "colab": {
          "base_uri": "https://localhost:8080/"
        },
        "id": "JQrQu-6kNAVo",
        "outputId": "9f895056-06cb-4543-f512-bc2f04c0136b"
      },
      "execution_count": 13,
      "outputs": [
        {
          "output_type": "stream",
          "name": "stdout",
          "text": [
            "Data:  [[   1  181  390]\n",
            " [ 181  390 1000]\n",
            " [ 390 1000    3]\n",
            " [1000    3  298]\n",
            " [   3  298    4]\n",
            " [ 298    4  946]\n",
            " [   4  946   41]\n",
            " [ 946   41 1000]\n",
            " [  41 1000   23]\n",
            " [1000   23   21]]\n",
            "Response:  [1000    3  298    4  946   41 1000   23   21    1]\n"
          ]
        }
      ]
    },
    {
      "cell_type": "code",
      "source": [
        "#convert the output (y) to binary\n",
        "y = to_categorical(y, num_classes=vocab_size)\n",
        "y[:5]\n"
      ],
      "metadata": {
        "colab": {
          "base_uri": "https://localhost:8080/"
        },
        "id": "-La3p4MdNAEP",
        "outputId": "b9f7960c-af89-4c7a-bec7-ae8c8aeb9875"
      },
      "execution_count": 14,
      "outputs": [
        {
          "output_type": "execute_result",
          "data": {
            "text/plain": [
              "array([[0., 0., 0., ..., 0., 0., 0.],\n",
              "       [0., 0., 0., ..., 0., 0., 0.],\n",
              "       [0., 0., 0., ..., 0., 0., 0.],\n",
              "       [0., 0., 0., ..., 0., 0., 0.],\n",
              "       [0., 0., 0., ..., 0., 0., 0.]], dtype=float32)"
            ]
          },
          "metadata": {},
          "execution_count": 14
        }
      ]
    },
    {
      "cell_type": "markdown",
      "source": [
        "create of model"
      ],
      "metadata": {
        "id": "921XLbnhO61Q"
      }
    },
    {
      "cell_type": "code",
      "source": [
        "model = Sequential()\n",
        "#Embeding layer get 3 argument(first argument is vocabulary size in my text data , second arument is output dimention(the size of word vector for each word is 10), third arument is input lenght)\n",
        "model.add(Embedding(vocab_size, 10, input_length=3))\n",
        "#LSTM layer (1000 units(output dimential space)) and return_sequences means the next layer is LSTM layer\n",
        "model.add(LSTM(1000, return_sequences=True))\n",
        "model.add(LSTM(1000))\n",
        "#Dense layer (1000 units and activation function)\n",
        "#relu activation function convert negative values to 0 and do nothing to positive values\n",
        "model.add(Dense(1000, activation=\"relu\"))\n",
        "#another Dense layer that number of unit is vocab size because i want output from this vocabulary\n",
        "#softmax activation function convert values to probability\n",
        "model.add(Dense(vocab_size, activation=\"softmax\"))"
      ],
      "metadata": {
        "id": "BrZoPGaoO-On"
      },
      "execution_count": 15,
      "outputs": []
    },
    {
      "cell_type": "markdown",
      "source": [
        "Plot the model"
      ],
      "metadata": {
        "id": "zu2NC14cXD9U"
      }
    },
    {
      "cell_type": "code",
      "source": [
        "from tensorflow import keras\n",
        "from tensorflow.keras.utils import plot_model\n",
        "\n",
        "\n",
        "keras.utils.plot_model(model, to_file='plot.png', show_layer_names=True)"
      ],
      "metadata": {
        "colab": {
          "base_uri": "https://localhost:8080/",
          "height": 564
        },
        "id": "-clUsWtlXFz_",
        "outputId": "7d335ddf-27c3-4b41-d771-0e62c216c78a"
      },
      "execution_count": 16,
      "outputs": [
        {
          "output_type": "execute_result",
          "data": {
            "image/png": "[encoded data removed]",
            "text/plain": [
              "<IPython.core.display.Image object>"
            ]
          },
          "metadata": {},
          "execution_count": 16
        }
      ]
    },
    {
      "cell_type": "markdown",
      "source": [
        "Train the model"
      ],
      "metadata": {
        "id": "i9KKNInDY6iJ"
      }
    },
    {
      "cell_type": "code",
      "source": [
        "#import Modelcheckpoint which use for save model and weight in iterabale\n",
        "from tensorflow.keras.callbacks import ModelCheckpoint\n",
        "\n",
        "checkpoint = ModelCheckpoint(\"next_words.h5\", monitor='loss', verbose=1, save_best_only=True)\n",
        "model.compile(loss=\"categorical_crossentropy\", optimizer=Adam(learning_rate=0.001))\n",
        "model.fit(X, y, epochs=50, batch_size=64, callbacks=[checkpoint])"
      ],
      "metadata": {
        "colab": {
          "base_uri": "https://localhost:8080/"
        },
        "id": "TF2UznlRY75T",
        "outputId": "dc687fa2-6e94-4620-ecd8-18860bd4290e"
      },
      "execution_count": 17,
      "outputs": [
        {
          "output_type": "stream",
          "name": "stdout",
          "text": [
            "Epoch 1/50\n",
            "2050/2050 [==============================] - ETA: 0s - loss: 6.2255\n",
            "Epoch 1: loss improved from inf to 6.22551, saving model to next_words.h5\n"
          ]
        },
        {
          "output_type": "stream",
          "name": "stderr",
          "text": [
            "/usr/local/lib/python3.10/dist-packages/keras/src/engine/training.py:3103: UserWarning: You are saving your model as an HDF5 file via `model.save()`. This file format is considered legacy. We recommend using instead the native Keras format, e.g. `model.save('my_model.keras')`.\n",
            "  saving_api.save_model(\n"
          ]
        },
        {
          "output_type": "stream",
          "name": "stdout",
          "text": [
            "\b\b\b\b\b\b\b\b\b\b\b\b\b\b\b\b\b\b\b\b\b\b\b\b\b\b\b\b\b\b\b\b\b\b\b\b\b\b\b\b\b\b\b\b\b\b\b\b\b\b\b\b\b\b\b\b\b\b\b\b\b\b\b\b\b\b\b\r2050/2050 [==============================] - 43s 19ms/step - loss: 6.2255\n",
            "Epoch 2/50\n",
            "2050/2050 [==============================] - ETA: 0s - loss: 5.6048\n",
            "Epoch 2: loss improved from 6.22551 to 5.60484, saving model to next_words.h5\n",
            "2050/2050 [==============================] - 34s 17ms/step - loss: 5.6048\n",
            "Epoch 3/50\n",
            "2050/2050 [==============================] - ETA: 0s - loss: 5.2814\n",
            "Epoch 3: loss improved from 5.60484 to 5.28136, saving model to next_words.h5\n",
            "2050/2050 [==============================] - 34s 16ms/step - loss: 5.2814\n",
            "Epoch 4/50\n",
            "2047/2050 [============================>.] - ETA: 0s - loss: 5.0467\n",
            "Epoch 4: loss improved from 5.28136 to 5.04647, saving model to next_words.h5\n",
            "2050/2050 [==============================] - 35s 17ms/step - loss: 5.0465\n",
            "Epoch 5/50\n",
            "2050/2050 [==============================] - ETA: 0s - loss: 4.8442\n",
            "Epoch 5: loss improved from 5.04647 to 4.84421, saving model to next_words.h5\n",
            "2050/2050 [==============================] - 34s 17ms/step - loss: 4.8442\n",
            "Epoch 6/50\n",
            "2050/2050 [==============================] - ETA: 0s - loss: 4.6481\n",
            "Epoch 6: loss improved from 4.84421 to 4.64814, saving model to next_words.h5\n",
            "2050/2050 [==============================] - 34s 16ms/step - loss: 4.6481\n",
            "Epoch 7/50\n",
            "2048/2050 [============================>.] - ETA: 0s - loss: 4.4509\n",
            "Epoch 7: loss improved from 4.64814 to 4.45069, saving model to next_words.h5\n",
            "2050/2050 [==============================] - 34s 16ms/step - loss: 4.4507\n",
            "Epoch 8/50\n",
            "2050/2050 [==============================] - ETA: 0s - loss: 4.2473\n",
            "Epoch 8: loss improved from 4.45069 to 4.24730, saving model to next_words.h5\n",
            "2050/2050 [==============================] - 34s 16ms/step - loss: 4.2473\n",
            "Epoch 9/50\n",
            "2050/2050 [==============================] - ETA: 0s - loss: 4.0359\n",
            "Epoch 9: loss improved from 4.24730 to 4.03594, saving model to next_words.h5\n",
            "2050/2050 [==============================] - 34s 16ms/step - loss: 4.0359\n",
            "Epoch 10/50\n",
            "2048/2050 [============================>.] - ETA: 0s - loss: 3.8203\n",
            "Epoch 10: loss improved from 4.03594 to 3.82060, saving model to next_words.h5\n",
            "2050/2050 [==============================] - 33s 16ms/step - loss: 3.8206\n",
            "Epoch 11/50\n",
            "2050/2050 [==============================] - ETA: 0s - loss: 3.6058\n",
            "Epoch 11: loss improved from 3.82060 to 3.60576, saving model to next_words.h5\n",
            "2050/2050 [==============================] - 33s 16ms/step - loss: 3.6058\n",
            "Epoch 12/50\n",
            "2047/2050 [============================>.] - ETA: 0s - loss: 3.3905\n",
            "Epoch 12: loss improved from 3.60576 to 3.39064, saving model to next_words.h5\n",
            "2050/2050 [==============================] - 33s 16ms/step - loss: 3.3906\n",
            "Epoch 13/50\n",
            "2050/2050 [==============================] - ETA: 0s - loss: 3.1741\n",
            "Epoch 13: loss improved from 3.39064 to 3.17407, saving model to next_words.h5\n",
            "2050/2050 [==============================] - 33s 16ms/step - loss: 3.1741\n",
            "Epoch 14/50\n",
            "2050/2050 [==============================] - ETA: 0s - loss: 2.9558\n",
            "Epoch 14: loss improved from 3.17407 to 2.95585, saving model to next_words.h5\n",
            "2050/2050 [==============================] - 34s 17ms/step - loss: 2.9558\n",
            "Epoch 15/50\n",
            "2050/2050 [==============================] - ETA: 0s - loss: 2.7339\n",
            "Epoch 15: loss improved from 2.95585 to 2.73393, saving model to next_words.h5\n",
            "2050/2050 [==============================] - 34s 16ms/step - loss: 2.7339\n",
            "Epoch 16/50\n",
            "2050/2050 [==============================] - ETA: 0s - loss: 2.5077\n",
            "Epoch 16: loss improved from 2.73393 to 2.50771, saving model to next_words.h5\n",
            "2050/2050 [==============================] - 33s 16ms/step - loss: 2.5077\n",
            "Epoch 17/50\n",
            "2050/2050 [==============================] - ETA: 0s - loss: 2.2835\n",
            "Epoch 17: loss improved from 2.50771 to 2.28351, saving model to next_words.h5\n",
            "2050/2050 [==============================] - 34s 16ms/step - loss: 2.2835\n",
            "Epoch 18/50\n",
            "2050/2050 [==============================] - ETA: 0s - loss: 2.0629\n",
            "Epoch 18: loss improved from 2.28351 to 2.06285, saving model to next_words.h5\n",
            "2050/2050 [==============================] - 33s 16ms/step - loss: 2.0629\n",
            "Epoch 19/50\n",
            "2048/2050 [============================>.] - ETA: 0s - loss: 1.8595\n",
            "Epoch 19: loss improved from 2.06285 to 1.85949, saving model to next_words.h5\n",
            "2050/2050 [==============================] - 33s 16ms/step - loss: 1.8595\n",
            "Epoch 20/50\n",
            "2049/2050 [============================>.] - ETA: 0s - loss: 1.6634\n",
            "Epoch 20: loss improved from 1.85949 to 1.66340, saving model to next_words.h5\n",
            "2050/2050 [==============================] - 33s 16ms/step - loss: 1.6634\n",
            "Epoch 21/50\n",
            "2050/2050 [==============================] - ETA: 0s - loss: 1.4868\n",
            "Epoch 21: loss improved from 1.66340 to 1.48682, saving model to next_words.h5\n",
            "2050/2050 [==============================] - 33s 16ms/step - loss: 1.4868\n",
            "Epoch 22/50\n",
            "2050/2050 [==============================] - ETA: 0s - loss: 1.3387\n",
            "Epoch 22: loss improved from 1.48682 to 1.33869, saving model to next_words.h5\n",
            "2050/2050 [==============================] - 33s 16ms/step - loss: 1.3387\n",
            "Epoch 23/50\n",
            "2050/2050 [==============================] - ETA: 0s - loss: 1.2086\n",
            "Epoch 23: loss improved from 1.33869 to 1.20857, saving model to next_words.h5\n",
            "2050/2050 [==============================] - 33s 16ms/step - loss: 1.2086\n",
            "Epoch 24/50\n",
            "2049/2050 [============================>.] - ETA: 0s - loss: 1.1023\n",
            "Epoch 24: loss improved from 1.20857 to 1.10231, saving model to next_words.h5\n",
            "2050/2050 [==============================] - 34s 16ms/step - loss: 1.1023\n",
            "Epoch 25/50\n",
            "2050/2050 [==============================] - ETA: 0s - loss: 1.0144\n",
            "Epoch 25: loss improved from 1.10231 to 1.01445, saving model to next_words.h5\n",
            "2050/2050 [==============================] - 33s 16ms/step - loss: 1.0144\n",
            "Epoch 26/50\n",
            "2048/2050 [============================>.] - ETA: 0s - loss: 0.9425\n",
            "Epoch 26: loss improved from 1.01445 to 0.94268, saving model to next_words.h5\n",
            "2050/2050 [==============================] - 33s 16ms/step - loss: 0.9427\n",
            "Epoch 27/50\n",
            "2049/2050 [============================>.] - ETA: 0s - loss: 0.8828\n",
            "Epoch 27: loss improved from 0.94268 to 0.88283, saving model to next_words.h5\n",
            "2050/2050 [==============================] - 33s 16ms/step - loss: 0.8828\n",
            "Epoch 28/50\n",
            "2050/2050 [==============================] - ETA: 0s - loss: 0.8410\n",
            "Epoch 28: loss improved from 0.88283 to 0.84102, saving model to next_words.h5\n",
            "2050/2050 [==============================] - 33s 16ms/step - loss: 0.8410\n",
            "Epoch 29/50\n",
            "2048/2050 [============================>.] - ETA: 0s - loss: 0.7966\n",
            "Epoch 29: loss improved from 0.84102 to 0.79676, saving model to next_words.h5\n",
            "2050/2050 [==============================] - 33s 16ms/step - loss: 0.7968\n",
            "Epoch 30/50\n",
            "2050/2050 [==============================] - ETA: 0s - loss: 0.7640\n",
            "Epoch 30: loss improved from 0.79676 to 0.76405, saving model to next_words.h5\n",
            "2050/2050 [==============================] - 34s 17ms/step - loss: 0.7640\n",
            "Epoch 31/50\n",
            "2047/2050 [============================>.] - ETA: 0s - loss: 0.7398\n",
            "Epoch 31: loss improved from 0.76405 to 0.74010, saving model to next_words.h5\n",
            "2050/2050 [==============================] - 33s 16ms/step - loss: 0.7401\n",
            "Epoch 32/50\n",
            "2049/2050 [============================>.] - ETA: 0s - loss: 0.7138\n",
            "Epoch 32: loss improved from 0.74010 to 0.71385, saving model to next_words.h5\n",
            "2050/2050 [==============================] - 33s 16ms/step - loss: 0.7139\n",
            "Epoch 33/50\n",
            "2049/2050 [============================>.] - ETA: 0s - loss: 0.6923\n",
            "Epoch 33: loss improved from 0.71385 to 0.69225, saving model to next_words.h5\n",
            "2050/2050 [==============================] - 33s 16ms/step - loss: 0.6923\n",
            "Epoch 34/50\n",
            "2048/2050 [============================>.] - ETA: 0s - loss: 0.6756\n",
            "Epoch 34: loss improved from 0.69225 to 0.67557, saving model to next_words.h5\n",
            "2050/2050 [==============================] - 34s 16ms/step - loss: 0.6756\n",
            "Epoch 35/50\n",
            "2050/2050 [==============================] - ETA: 0s - loss: 0.6574\n",
            "Epoch 35: loss improved from 0.67557 to 0.65745, saving model to next_words.h5\n",
            "2050/2050 [==============================] - 33s 16ms/step - loss: 0.6574\n",
            "Epoch 36/50\n",
            "2049/2050 [============================>.] - ETA: 0s - loss: 0.6430\n",
            "Epoch 36: loss improved from 0.65745 to 0.64310, saving model to next_words.h5\n",
            "2050/2050 [==============================] - 34s 16ms/step - loss: 0.6431\n",
            "Epoch 37/50\n",
            "2048/2050 [============================>.] - ETA: 0s - loss: 0.6264\n",
            "Epoch 37: loss improved from 0.64310 to 0.62652, saving model to next_words.h5\n",
            "2050/2050 [==============================] - 34s 16ms/step - loss: 0.6265\n",
            "Epoch 38/50\n",
            "2050/2050 [==============================] - ETA: 0s - loss: 0.6188\n",
            "Epoch 38: loss improved from 0.62652 to 0.61876, saving model to next_words.h5\n",
            "2050/2050 [==============================] - 33s 16ms/step - loss: 0.6188\n",
            "Epoch 39/50\n",
            "2049/2050 [============================>.] - ETA: 0s - loss: 0.6057\n",
            "Epoch 39: loss improved from 0.61876 to 0.60573, saving model to next_words.h5\n",
            "2050/2050 [==============================] - 34s 16ms/step - loss: 0.6057\n",
            "Epoch 40/50\n",
            "2048/2050 [============================>.] - ETA: 0s - loss: 0.5926\n",
            "Epoch 40: loss improved from 0.60573 to 0.59265, saving model to next_words.h5\n",
            "2050/2050 [==============================] - 33s 16ms/step - loss: 0.5927\n",
            "Epoch 41/50\n",
            "2049/2050 [============================>.] - ETA: 0s - loss: 0.5849\n",
            "Epoch 41: loss improved from 0.59265 to 0.58492, saving model to next_words.h5\n",
            "2050/2050 [==============================] - 33s 16ms/step - loss: 0.5849\n",
            "Epoch 42/50\n",
            "2048/2050 [============================>.] - ETA: 0s - loss: 0.5736\n",
            "Epoch 42: loss improved from 0.58492 to 0.57384, saving model to next_words.h5\n",
            "2050/2050 [==============================] - 33s 16ms/step - loss: 0.5738\n",
            "Epoch 43/50\n",
            "2048/2050 [============================>.] - ETA: 0s - loss: 0.5670\n",
            "Epoch 43: loss improved from 0.57384 to 0.56724, saving model to next_words.h5\n",
            "2050/2050 [==============================] - 33s 16ms/step - loss: 0.5672\n",
            "Epoch 44/50\n",
            "2050/2050 [==============================] - ETA: 0s - loss: 0.5589\n",
            "Epoch 44: loss improved from 0.56724 to 0.55892, saving model to next_words.h5\n",
            "2050/2050 [==============================] - 33s 16ms/step - loss: 0.5589\n",
            "Epoch 45/50\n",
            "2050/2050 [==============================] - ETA: 0s - loss: 0.5547\n",
            "Epoch 45: loss improved from 0.55892 to 0.55472, saving model to next_words.h5\n",
            "2050/2050 [==============================] - 33s 16ms/step - loss: 0.5547\n",
            "Epoch 46/50\n",
            "2048/2050 [============================>.] - ETA: 0s - loss: 0.5435\n",
            "Epoch 46: loss improved from 0.55472 to 0.54358, saving model to next_words.h5\n",
            "2050/2050 [==============================] - 33s 16ms/step - loss: 0.5436\n",
            "Epoch 47/50\n",
            "2049/2050 [============================>.] - ETA: 0s - loss: 0.5392\n",
            "Epoch 47: loss improved from 0.54358 to 0.53920, saving model to next_words.h5\n",
            "2050/2050 [==============================] - 34s 17ms/step - loss: 0.5392\n",
            "Epoch 48/50\n",
            "2050/2050 [==============================] - ETA: 0s - loss: 0.5316\n",
            "Epoch 48: loss improved from 0.53920 to 0.53165, saving model to next_words.h5\n",
            "2050/2050 [==============================] - 33s 16ms/step - loss: 0.5316\n",
            "Epoch 49/50\n",
            "2050/2050 [==============================] - ETA: 0s - loss: 0.5236\n",
            "Epoch 49: loss improved from 0.53165 to 0.52359, saving model to next_words.h5\n",
            "2050/2050 [==============================] - 33s 16ms/step - loss: 0.5236\n",
            "Epoch 50/50\n",
            "2047/2050 [============================>.] - ETA: 0s - loss: 0.5218\n",
            "Epoch 50: loss improved from 0.52359 to 0.52196, saving model to next_words.h5\n",
            "2050/2050 [==============================] - 33s 16ms/step - loss: 0.5220\n"
          ]
        },
        {
          "output_type": "execute_result",
          "data": {
            "text/plain": [
              "<keras.src.callbacks.History at 0x7b37b3819c30>"
            ]
          },
          "metadata": {},
          "execution_count": 17
        }
      ]
    },
    {
      "cell_type": "markdown",
      "source": [
        "prediction"
      ],
      "metadata": {
        "id": "T_KtUhmEce6N"
      }
    },
    {
      "cell_type": "code",
      "source": [
        "from tensorflow.keras.models import load_model\n",
        "import numpy as np\n",
        "import pickle\n",
        "\n",
        "# Load the model and tokenizer\n",
        "model = load_model('next_words.h5')\n",
        "tokenizer = pickle.load(open('token.pkl', 'rb'))"
      ],
      "metadata": {
        "id": "M2lNU9dqcmN9"
      },
      "execution_count": 18,
      "outputs": []
    },
    {
      "cell_type": "code",
      "source": [
        "def Predict_Next_Words(model, tokenizer, text):\n",
        "\n",
        "  sequence = tokenizer.texts_to_sequences([text])\n",
        "  sequence = np.array(sequence)\n",
        "  preds = np.argmax(model.predict(sequence))\n",
        "  predicted_word = \"\"\n",
        "\n",
        "  for key, value in tokenizer.word_index.items():\n",
        "      if value == preds:\n",
        "          predicted_word = key\n",
        "          break\n",
        "\n",
        "  print(predicted_word)\n",
        "  return predicted_word\n",
        "while(True):\n",
        "  text = input(\"Enter your line: \")\n",
        "\n",
        "  if text == \"0\":\n",
        "      print(\"Execution completed.....\")\n",
        "      break\n",
        "\n",
        "  else:\n",
        "      try:\n",
        "          text = text.split(\" \")\n",
        "          text = text[-3:]\n",
        "          print(text)\n",
        "\n",
        "          Predict_Next_Words(model, tokenizer, text)\n",
        "\n",
        "      except Exception as e:\n",
        "        print(\"Error occurred: \",e)\n",
        "        continue\n"
      ],
      "metadata": {
        "colab": {
          "base_uri": "https://localhost:8080/"
        },
        "id": "vif6N8x9ZHVX",
        "outputId": "5ccba282-c668-4741-bf26-83f5be8495a7"
      },
      "execution_count": null,
      "outputs": [
        {
          "output_type": "stream",
          "name": "stdout",
          "text": [
            "Enter your line: He was quite\n",
            "['He', 'was', 'quite']\n",
            "1/1 [==============================] - 1s 1s/step\n",
            "young\n",
            "Enter your line: and her sister\n",
            "['and', 'her', 'sister']\n",
            "1/1 [==============================] - 0s 18ms/step\n",
            "scarcely\n",
            "Enter your line: how can you abuse your own\n",
            "['abuse', 'your', 'own']\n",
            "1/1 [==============================] - 0s 18ms/step\n",
            "children\n"
          ]
        }
      ]
    }
  ]
}